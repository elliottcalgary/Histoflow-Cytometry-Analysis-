{
 "cells": [
  {
   "cell_type": "markdown",
   "metadata": {},
   "source": [
    "## Converting a column of Cell ID numbers from FlowJo output csv file to a sequence of unformatted numbers, separated by a comma and saved to a txt file for import into Imaris.\n",
    "\n",
    "Author: Dr David Elliott (HBI-AMP)\n",
    "\n",
    "Date: 18/3/2022\n",
    "\n",
    "Primary User: Dr Rajiv Jain (Yong lab)\n",
    "\n",
    "GOAL: A sub-population of Cell objects has been identified using the FlowJo software (www.flowjo.com). We would now like to select and display this subpopulation of Cells in Imaris.\n",
    "\n",
    "The Cell objects of interest can be selected by typing the ID# directly into the Statistics search bar in Imaris. However, copying a column of numbers from xls/csv will not be accepted. Each number must be separated by a comma without any spaces. As there are potentially hundreds to thousands of Cell objects to be selected, this process must be automated. This script takes the ID numbers and saves them to a txt file in the correct format/sequence.\n",
    "Due to a bug in the Imaris software, if the copied number sequence contains more than 1 single digit number we will not be able to paste into the search bar. This obstacle can be overcome by converting single digit numbers to double digit numbers (eg., '1' to '01', etc.)\n",
    "Now, the User can simply open the generated txt file, select all then copy and paste directly into the Imaris search bar."
   ]
  },
  {
   "cell_type": "code",
   "execution_count": 1,
   "metadata": {},
   "outputs": [],
   "source": [
    "# STEP 1:\n",
    "\n",
    "# Import modules\n",
    "\n",
    "\n",
    "import numpy as np\n",
    "import pandas as pd\n",
    "\n",
    "import os.path\n",
    "from os import path\n",
    "\n",
    "import csv\n"
   ]
  },
  {
   "cell_type": "code",
   "execution_count": 2,
   "metadata": {},
   "outputs": [
    {
     "name": "stdin",
     "output_type": "stream",
     "text": [
      "Please enter the location of the FlowJo file : C:\\Users\\rajiv\\Desktop\\exported.FCS3.csv\n"
     ]
    }
   ],
   "source": [
    "# STEP 2: \n",
    "\n",
    "# Locate csv file for: FlowJo Cell IDs.\n",
    "\n",
    "\n",
    "def checkFile(data):\n",
    "    \n",
    "    valid = False\n",
    "    while (valid == False):\n",
    "        \n",
    "        location = input(\"Please enter the location of the \" + data + \" file :\")\n",
    "        \n",
    "        try:\n",
    "            with open(location, newline = \"\\n\") as csvfile:\n",
    "                return (location)\n",
    "            \n",
    "        except:\n",
    "            print (\"Sorry, was unable to locate that folder. Please try again.\")\n",
    "        \n",
    "        \n",
    "flowJo = checkFile(\"FlowJo\") # NOTE: Am currently using the first column named 'P1-1' from the FlowJo output. We can change this if need be.\n",
    "\n",
    "# C:\\Users\\david\\Desktop\\Rajiv\\Test data David\\exported.FCS3.csv\n",
    "# C:\\Users\\david\\Desktop\\Rajiv\\Test data David\\exported.FCS3_FlowJo_test.csv"
   ]
  },
  {
   "cell_type": "code",
   "execution_count": 377,
   "metadata": {},
   "outputs": [],
   "source": [
    "# STEP 3:\n",
    "\n",
    "# Convert flowJo csv file into a DataFrame\n",
    "\n",
    "\n",
    "flowJoDf = pd.read_csv(flowJo)"
   ]
  },
  {
   "cell_type": "code",
   "execution_count": 336,
   "metadata": {},
   "outputs": [
    {
     "name": "stdin",
     "output_type": "stream",
     "text": [
      "Please enter the output location and filename for the txt file:  C:\\Users\\rajiv\\Desktop\\Temp\\Cells.txt\n"
     ]
    }
   ],
   "source": [
    "# STEP 4: \n",
    "\n",
    "# Define location to save txt file of Cell ID numbers:\n",
    "\n",
    "outputLocation = input(\"Please enter the output location and filename for the txt file: \")"
   ]
  },
  {
   "cell_type": "code",
   "execution_count": 378,
   "metadata": {},
   "outputs": [],
   "source": [
    "# STEP 5:\n",
    "\n",
    "# Write numbers to a txt file, each separated by a comma, ready to copy and paste into Imaris.\n",
    "\n",
    "# Comma is not written after the last ID# is written to txt file, as it will prevent the number string being copied \n",
    "# into Imaris. \n",
    "# For single digit ID numbers, convert to double digit (eg., '1' becomes '01', etc).\n",
    "\n",
    "\n",
    "with open(outputLocation, 'w') as file:\n",
    "    for i in range(len(flowJoDf)):\n",
    "        if i < (len(flowJoDf) - 1):\n",
    "            if int(flowJoDf['P1-1'].loc[i]) < 10:\n",
    "                file.write('0' + (str(flowJoDf['P1-1'].loc[i])) + \",\")\n",
    "            else:\n",
    "                file.write(str(flowJoDf['P1-1'].loc[i]) + \",\")\n",
    "            \n",
    "        else:\n",
    "            if int(flowJoDf['P1-1'].loc[i]) < 10:\n",
    "                file.write('0' + (str(flowJoDf['P1-1'].loc[i])))\n",
    "            else:\n",
    "                file.write(str(flowJoDf['P1-1'].loc[i]))\n",
    "            \n",
    "        \n",
    "        "
   ]
  }
 ],
 "metadata": {
  "kernelspec": {
   "display_name": "Python 3",
   "language": "python",
   "name": "python3"
  },
  "language_info": {
   "codemirror_mode": {
    "name": "ipython",
    "version": 3
   },
   "file_extension": ".py",
   "mimetype": "text/x-python",
   "name": "python",
   "nbconvert_exporter": "python",
   "pygments_lexer": "ipython3",
   "version": "3.7.4"
  }
 },
 "nbformat": 4,
 "nbformat_minor": 4
}
