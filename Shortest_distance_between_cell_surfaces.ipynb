{
 "cells": [
  {
   "cell_type": "markdown",
   "metadata": {},
   "source": [
    "## Determine shortest distance to nearest Surface in Imaris, v1.0\n",
    "\n",
    "### Author: Dr David Elliott, Hotchkiss Brain Institute - Advanced Microscopy Platform\n",
    "\n",
    "### User: Dr Rajiv Jain (Yong lab)\n",
    "\n",
    "### Date: 19th of May, 2022\n",
    "\n",
    "### GOAL:\n",
    "Imaris is able to calculate distance to nearest neighbours for spots, however, it does not have this functionality for Surfaces. It does however provide us with the distance to Surfaces that belong to a different object (ie., a surface that was generated spearately, as opposed to surfaces within the same object) which it referes to as 'surface-to-surface'.\n",
    "\n",
    "Thus, a work-around is to convert all surfaces within an object to a separate Surface object, using the 'split surfaces' XTension inbuilt to Imaris. Now, each surface/cell will be its own object, and these will all be sorted into a new folder. While these objects are in this folder, surface-to-surface calculations will not be provided. However, if we now select and drag all of these objects out of the folder and into the main menu, surface-to-surface shortest distances measurements will be provided.\n",
    "\n",
    "If we now go back to our original surfaces object (which contains many surfaces), we can get a csv file for distance to every newly created object/surface. The obstacle is that there are so many (typically in the 000's) and each surface in the original object will have a correspnding object, which will have a distance of 0.\n",
    "\n",
    "The User will export all stats from the original surfaces object as csv into one folder. This script will then ask for the location of this folder and the name of the LAST shortest-distance csv file. It will then calculate the total number of files, open each one, sort by shortest distance to find the 'second' nearest neighbour, which is the 'real' nearest neighbour, then export these values to 'summary.csv'\n"
   ]
  },
  {
   "cell_type": "code",
   "execution_count": null,
   "metadata": {},
   "outputs": [],
   "source": [
    "# Import modules\n",
    "\n",
    "import numpy as np\n",
    "import pandas as pd\n",
    "import csv\n",
    "import os.path\n",
    "from os import path"
   ]
  },
  {
   "cell_type": "code",
   "execution_count": 215,
   "metadata": {},
   "outputs": [
    {
     "name": "stdin",
     "output_type": "stream",
     "text": [
      "Please enter the location of the folder containing the 'Shortest_Distance_to_Surfaces...etc' files:  D:\\Myeloid analysis exp 2\\Same cell interaction exports\\Neutrophils\\SC7 L2_Statistics\n",
      "Please enter the fliename for the LAST 'Shortest_Distance_to_Surfaces...etc' file ('.csv' will be added automatically):  SC7 L2_Shortest_Distance_to_Surfaces_Surfaces=Neutrophils_[22]\n"
     ]
    }
   ],
   "source": [
    "# Prompt User for location of folder containing results and the last file. \n",
    "# NOTE: this can be entered directly in 'Option 2' below. Just comment out and uncomment sections accordingly. Prompting the User ensures that the\n",
    "# folder and filenames get re-entered every time for each dataset (thus reducing the probablility of making an error when working with many image datasets).\n",
    "\n",
    "def checkFolder():\n",
    "    \n",
    "    valid = False\n",
    "    while (valid == False):\n",
    "        \n",
    "        enteredFolder = input(\"Please enter the location of the folder containing the 'Shortest_Distance_to_Surfaces...etc' files: \")\n",
    "        \n",
    "        if path.exists(enteredFolder) == False:  # Confirm that a valid directory was entered\n",
    "            print (\"\\nSorry, was unable to locate that folder. Please try again (go to Kernel/Restart Kernel to get out of this loop).\\n\")\n",
    "        else:\n",
    "            return(enteredFolder)\n",
    "            \n",
    "                \n",
    "def checkFile():\n",
    "    \n",
    "    valid = False\n",
    "    while (valid == False):\n",
    "        \n",
    "        enteredFilename = input(\"Please enter the fliename for the LAST 'Shortest_Distance_to_Surfaces...etc' file ('.csv' will be added automatically): \")\n",
    "        \n",
    "        try:\n",
    "            with open((folder + '\\\\' + enteredFilename + '.csv'), newline = \"\\n\") as csvfile:\n",
    "                return (enteredFilename + '.csv')\n",
    "            \n",
    "        except:\n",
    "            print (\"\\nSorry, was unable to locate that folder. Please try again (go to Kernel/Restart Kernel to get out of this loop).\\n\")\n",
    "        \n",
    "\n",
    "# Location of folder containing the Shortest-distance csv files        \n",
    "folder = checkFolder()\n",
    "\n",
    "# Filename for the LAST 'Shortest_Distance_to_Surfaces...etc' file ('.csv' will be added automatically)\n",
    "lastFile = checkFile()\n",
    "\n",
    "\n",
    "# Option 2: Uncomment below\n",
    "# # Location of folder containing csv files\n",
    "# folder = (r'C:\\Users\\david\\Desktop\\Rajiv\\Intra-object_distances\\Stats_test_3\\SC4 L1_David_Statistics')\n",
    "\n",
    "# # Name of the LAST file in the 'Shortest_Distance_to_Surfaces...etc' file series\n",
    "# lastFile = (r'SC4 L1_David_Shortest_Distance_to_Surfaces_Surfaces=Neutrophils_[1163]') + '.csv'"
   ]
  },
  {
   "cell_type": "code",
   "execution_count": 216,
   "metadata": {},
   "outputs": [],
   "source": [
    "# Determine the number of the last file [in brackets]\n",
    "\n",
    "def findLocation(file):    \n",
    "    \n",
    "    counter = -6\n",
    "    found = False\n",
    "\n",
    "    while found == False:\n",
    "\n",
    "        counter = (counter - 1)\n",
    "        #print(counter)\n",
    "        if file[counter] == '[':\n",
    "            found = True\n",
    "\n",
    "    return(counter + 1)\n",
    "\n",
    "\n",
    "# Using the last filename, parse out the number of the last file which is between the '[]'. Example, 1163 in the following:\n",
    "# SC4 L1_David_Shortest_Distance_to_Surfaces_Surfaces=Neutrophils_[1163].csv\n",
    "\n",
    "# We know the length from the end of the file before we reach the number ('].csv') is consistent, thus we can start moving \n",
    "# backward until we reach the '['. This will be performed by the function 'findLocation'. This positional information\n",
    "# will then enable us to extract the number in between and store in the variable 'numberOfObjects'. \n",
    "startLocation = findLocation(lastFile)\n",
    "\n",
    "numberOfObjects = lastFile[int(startLocation):-5]\n",
    "\n",
    "# Now extract the common prefix for all the files (ie., before the numbering) and store in 'filePrefix'\n",
    "filePrefix = lastFile[:-5-len(numberOfObjects)]\n",
    "\n"
   ]
  },
  {
   "cell_type": "code",
   "execution_count": 217,
   "metadata": {},
   "outputs": [],
   "source": [
    "\n",
    "def findNearest(ID):\n",
    "    '''\n",
    "    Receive: Cell/file ID number\n",
    "    Return: The real distance to nearest neighbour\n",
    "    \n",
    "    - ID number (for the file, which is +1 relative to the Cell ID#) is used to determine which file to open. \n",
    "    This file is read into a df.\n",
    "    - The df is sorted by \"Shortest Distance to Surfaces\" values and the index is rest.\n",
    "    - Now, the second value in the \"Shortest Distance to Surfaces\" column (loc 1, as counting starts from 0),\n",
    "    reflects the real nearest neighbour. This value is returned.\n",
    "    '''\n",
    "    \n",
    "    # Open csv file\n",
    "    tempDf = pd.read_csv((folder + '\\\\' + filePrefix + str(ID) + '].csv'), header = 2)\n",
    "    \n",
    "    # Sort by shortest Distance values\n",
    "    sortedDf = tempDf.sort_values([\"Shortest Distance to Surfaces\"], ascending = True)\n",
    "    \n",
    "    # Reset index\n",
    "    sortedDf = sortedDf.reset_index(drop = True)\n",
    "    \n",
    "    # Return nearest neighhbour value (second value in index)\n",
    "    return(sortedDf.loc[1, \"Shortest Distance to Surfaces\"])\n",
    "    \n"
   ]
  },
  {
   "cell_type": "code",
   "execution_count": 218,
   "metadata": {},
   "outputs": [
    {
     "name": "stdout",
     "output_type": "stream",
     "text": [
      "FINISHED!\n"
     ]
    }
   ],
   "source": [
    "# Initialise df 'summaryDf' to store results\n",
    "summaryDf = pd.DataFrame(columns = [\"Cell ID\", \"Nearest neighbour (um)\"])\n",
    "\n",
    "\n",
    "# Loop through all of the files, determine value to nearest neighbour (ie., second smallest value), \n",
    "# then write to df alongside Cell ID#\n",
    "for i in range(int(numberOfObjects)):\n",
    "    summaryDf.loc[i, \"Cell ID\"] = i\n",
    "    summaryDf.loc[i, \"Nearest neighbour (um)\"] = findNearest(i+1)\n",
    "\n",
    "    \n",
    "# Write to a csv file. By default this will be saved to the folder location provided.\n",
    "summaryDf.to_csv(folder + '\\\\' + 'Summary.csv')\n",
    "print(\"FINISHED!\")"
   ]
  }
 ],
 "metadata": {
  "kernelspec": {
   "display_name": "Python 3",
   "language": "python",
   "name": "python3"
  },
  "language_info": {
   "codemirror_mode": {
    "name": "ipython",
    "version": 3
   },
   "file_extension": ".py",
   "mimetype": "text/x-python",
   "name": "python",
   "nbconvert_exporter": "python",
   "pygments_lexer": "ipython3",
   "version": "3.7.4"
  }
 },
 "nbformat": 4,
 "nbformat_minor": 4
}
